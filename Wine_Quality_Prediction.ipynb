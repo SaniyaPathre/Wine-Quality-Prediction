{
  "nbformat": 4,
  "nbformat_minor": 0,
  "metadata": {
    "colab": {
      "provenance": [],
      "authorship_tag": "ABX9TyOCikoT+vUXyYoRmf7hocSY",
      "include_colab_link": true
    },
    "kernelspec": {
      "name": "python3",
      "display_name": "Python 3"
    },
    "language_info": {
      "name": "python"
    }
  },
  "cells": [
    {
      "cell_type": "markdown",
      "metadata": {
        "id": "view-in-github",
        "colab_type": "text"
      },
      "source": [
        "<a href=\"https://colab.research.google.com/github/SaniyaPathre/Wine-Quality-Prediction/blob/main/Wine_Quality_Prediction.ipynb\" target=\"_parent\"><img src=\"https://colab.research.google.com/assets/colab-badge.svg\" alt=\"Open In Colab\"/></a>"
      ]
    },
    {
      "cell_type": "code",
      "source": [
        "import numpy as np\n",
        "import pandas as pd\n",
        "import matplotlib.pyplot as plt\n",
        "import seaborn as sb\n",
        "\n",
        "from sklearn.model_selection import train_test_split\n",
        "from sklearn.preprocessing import MinMaxScaler\n",
        "from sklearn import metrics\n",
        "from sklearn.svm import SVC\n",
        "from xgboost import XGBClassifier\n",
        "from sklearn.linear_model import LogisticRegression\n",
        "\n",
        "import warnings\n",
        "warnings.filterwarnings('ignore')\n"
      ],
      "metadata": {
        "id": "CM-6kBi-6LYQ"
      },
      "execution_count": null,
      "outputs": []
    },
    {
      "cell_type": "code",
      "source": [
        "df = pd.read_csv('/content/winequality.csv')\n",
        "print(df.head())\n"
      ],
      "metadata": {
        "id": "u_JpFrmz6tsM"
      },
      "execution_count": null,
      "outputs": []
    },
    {
      "cell_type": "code",
      "source": [
        "df.info()\n"
      ],
      "metadata": {
        "id": "hlebNT8-65x5"
      },
      "execution_count": null,
      "outputs": []
    },
    {
      "cell_type": "code",
      "source": [
        "df.describe().T\n"
      ],
      "metadata": {
        "id": "ZqCBnWKK68tb"
      },
      "execution_count": null,
      "outputs": []
    },
    {
      "cell_type": "code",
      "source": [
        "df.isnull().sum()\n"
      ],
      "metadata": {
        "id": "CQFKqMzd6-hB"
      },
      "execution_count": null,
      "outputs": []
    },
    {
      "cell_type": "code",
      "source": [
        "for col in df.columns:\n",
        "  if df[col].isnull().sum() > 0:\n",
        "    df[col] = df[col].fillna(df[col].mean())\n",
        "\n",
        "df.isnull().sum().sum()\n"
      ],
      "metadata": {
        "id": "pxPwYDDc7BJe"
      },
      "execution_count": null,
      "outputs": []
    },
    {
      "cell_type": "code",
      "source": [
        "df.hist(bins=20, figsize=(10, 10))\n",
        "plt.show()\n"
      ],
      "metadata": {
        "id": "nw3XKsUG7DBP"
      },
      "execution_count": null,
      "outputs": []
    },
    {
      "cell_type": "code",
      "source": [
        "plt.bar(df['quality'], df['alcohol'])\n",
        "plt.xlabel('quality')\n",
        "plt.ylabel('alcohol')\n",
        "plt.show()\n"
      ],
      "metadata": {
        "id": "0jy0QHco7E0j"
      },
      "execution_count": null,
      "outputs": []
    },
    {
      "cell_type": "code",
      "source": [
        "plt.figure(figsize=(12, 12))\n",
        "sb.heatmap(df.corr() > 0.7, annot=True, cbar=False)\n",
        "plt.show()\n"
      ],
      "metadata": {
        "id": "d51UR7If7HvE"
      },
      "execution_count": null,
      "outputs": []
    },
    {
      "cell_type": "code",
      "source": [
        "df = df.drop('total sulfur dioxide', axis=1)\n"
      ],
      "metadata": {
        "id": "S2cfsPok7J71"
      },
      "execution_count": null,
      "outputs": []
    },
    {
      "cell_type": "code",
      "source": [
        "df['best quality'] = [1 if x > 5 else 0 for x in df.quality]\n"
      ],
      "metadata": {
        "id": "K7_Xhyk17MRm"
      },
      "execution_count": null,
      "outputs": []
    },
    {
      "cell_type": "code",
      "source": [
        "df.replace({'white': 1, 'red': 0}, inplace=True)\n"
      ],
      "metadata": {
        "id": "dMDCOdgK7N2t"
      },
      "execution_count": null,
      "outputs": []
    },
    {
      "cell_type": "code",
      "source": [
        "features = df.drop(['quality', 'best quality'], axis=1)\n",
        "target = df['best quality']\n",
        "\n",
        "xtrain, xtest, ytrain, ytest = train_test_split(\n",
        "\tfeatures, target, test_size=0.2, random_state=40)\n",
        "\n",
        "xtrain.shape, xtest.shape\n"
      ],
      "metadata": {
        "id": "C-jVwepC7Pil"
      },
      "execution_count": null,
      "outputs": []
    },
    {
      "cell_type": "code",
      "source": [
        "norm = MinMaxScaler()\n",
        "xtrain = norm.fit_transform(xtrain)\n",
        "xtest = norm.transform(xtest)\n"
      ],
      "metadata": {
        "id": "MtTY2NQ87RQt"
      },
      "execution_count": null,
      "outputs": []
    },
    {
      "cell_type": "code",
      "source": [
        "models = [LogisticRegression(), XGBClassifier(), SVC(kernel='rbf')]\n",
        "\n",
        "for i in range(3):\n",
        "\tmodels[i].fit(xtrain, ytrain)\n",
        "\n",
        "\tprint(f'{models[i]} : ')\n",
        "\tprint('Training Accuracy : ', metrics.roc_auc_score(ytrain, models[i].predict(xtrain)))\n",
        "\tprint('Validation Accuracy : ', metrics.roc_auc_score(\n",
        "\t\tytest, models[i].predict(xtest)))\n",
        "\tprint()\n"
      ],
      "metadata": {
        "id": "TYPOatgH7TNC"
      },
      "execution_count": null,
      "outputs": []
    },
    {
      "cell_type": "code",
      "source": [
        "metrics.plot_confusion_matrix(models[1], xtest, ytest)\n",
        "plt.show()\n"
      ],
      "metadata": {
        "id": "jac5NH_k7VUX"
      },
      "execution_count": null,
      "outputs": []
    },
    {
      "cell_type": "code",
      "source": [
        "print(metrics.classification_report(ytest,\n",
        "\t\t\t\t\t\t\t\t\tmodels[1].predict(xtest)))\n"
      ],
      "metadata": {
        "id": "pqx3C4TA7cMT"
      },
      "execution_count": null,
      "outputs": []
    }
  ]
}